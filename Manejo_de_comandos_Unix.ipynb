{
  "nbformat": 4,
  "nbformat_minor": 0,
  "metadata": {
    "colab": {
      "provenance": [],
      "collapsed_sections": []
    },
    "kernelspec": {
      "name": "python3",
      "display_name": "Python 3"
    },
    "language_info": {
      "name": "python"
    }
  },
  "cells": [
    {
      "cell_type": "markdown",
      "metadata": {
        "id": "aiaBytcihPQK"
      },
      "source": [
        "# Problema #2"
      ]
    },
    {
      "cell_type": "markdown",
      "source": [
        "# **Primer** **punto** \n",
        "Verificacion de datos"
      ],
      "metadata": {
        "id": "BGNEoMCHmkNI"
      }
    },
    {
      "cell_type": "code",
      "metadata": {
        "colab": {
          "base_uri": "https://localhost:8080/"
        },
        "id": "GSo-eHeBa59K",
        "outputId": "f64876f2-4041-4d3f-ddaa-0ff44d54f347"
      },
      "source": [
        "#Contar la cantidad de registro por linea con wc\n",
        "!wc yellow_tripdata_2019-12.csv"
      ],
      "execution_count": null,
      "outputs": [
        {
          "output_type": "stream",
          "name": "stdout",
          "text": [
            "  6896318  20688952 639108129 yellow_tripdata_2019-12.csv\n"
          ]
        }
      ]
    },
    {
      "cell_type": "code",
      "source": [
        "#Mostrar la cabecera con head\n",
        "!head -n 1 yellow_tripdata_2019-12.csv"
      ],
      "metadata": {
        "id": "4WTJhiXKPl2N",
        "colab": {
          "base_uri": "https://localhost:8080/"
        },
        "outputId": "b4501c20-e9cd-456b-94c3-037f574ff647"
      },
      "execution_count": null,
      "outputs": [
        {
          "output_type": "stream",
          "name": "stdout",
          "text": [
            "VendorID,tpep_pickup_datetime,tpep_dropoff_datetime,passenger_count,trip_distance,RatecodeID,store_and_fwd_flag,PULocationID,DOLocationID,payment_type,fare_amount,extra,mta_tax,tip_amount,tolls_amount,improvement_surcharge,total_amount,congestion_surcharge\r\n"
          ]
        }
      ]
    },
    {
      "cell_type": "code",
      "source": [
        "#Mostrar el final con tail\n",
        "!tail -n 1 yellow_tripdata_2019-12.csv"
      ],
      "metadata": {
        "colab": {
          "base_uri": "https://localhost:8080/"
        },
        "id": "bceqh5jLpMZR",
        "outputId": "dce16892-dd54-4f63-8623-58f879604309"
      },
      "execution_count": null,
      "outputs": [
        {
          "output_type": "stream",
          "name": "stdout",
          "text": [
            ",2019-12-31 00:21:00,2019-12-31 00:56:00,,-17.16,,,193,219,,44.62,2.75,0.5,0,0,0.3,48.17,0\r\n"
          ]
        }
      ]
    },
    {
      "cell_type": "code",
      "source": [
        "!tail -n 10 '/content/drive/MyDrive/Archivos tarea 2/corregimientos.csv'"
      ],
      "metadata": {
        "colab": {
          "base_uri": "https://localhost:8080/"
        },
        "id": "GNtGeawwhRC_",
        "outputId": "a093670b-ddc6-4d8b-eb1d-a72c30c25b8f"
      },
      "execution_count": null,
      "outputs": [
        {
          "output_type": "stream",
          "name": "stdout",
          "text": [
            ",Jirondai,burí,Samboa\r\n",
            ",,Guariviara,\r\n",
            ",,hombre Creek,\r\n",
            ",,Samboa,\r\n",
            ",,Tuwai,\r\n",
            ",Santa Catalina o Calovébora,Alto Bilingüe,Santa Catalina o Calovébora (Bledeshia)\r\n",
            ",,Loma Yuca,\r\n",
            ",,San Pedrito,\r\n",
            ",,Santa Catalina o Calovébora (Bledeshia),\r\n",
            ",,Valle Bonito,"
          ]
        }
      ]
    },
    {
      "cell_type": "markdown",
      "source": [
        "# **Segundo punto** \n",
        "Identifique cuantos suplidores unicos existen"
      ],
      "metadata": {
        "id": "x6dg1xpom8GE"
      }
    },
    {
      "cell_type": "code",
      "source": [
        "#Contar la cantidad de suplidor que existe\n",
        "!cut -c1 yellow_tripdata_2019-12.csv | sort | uniq -c"
      ],
      "metadata": {
        "colab": {
          "base_uri": "https://localhost:8080/"
        },
        "id": "qKTzLP8zpmzx",
        "outputId": "efa2c142-872d-45ee-c93b-51f512277a4a"
      },
      "execution_count": null,
      "outputs": [
        {
          "output_type": "stream",
          "name": "stdout",
          "text": [
            "  51018 ,\n",
            "2283202 1\n",
            "4562097 2\n",
            "      1 V\n"
          ]
        }
      ]
    },
    {
      "cell_type": "markdown",
      "source": [
        "# **Tercer punto**\n",
        "La 4ta columna passenger_count"
      ],
      "metadata": {
        "id": "1z-Yhw_BnIZ0"
      }
    },
    {
      "cell_type": "code",
      "source": [
        "#Contar viajes de distintas cantidad de cada suplidor que existe con awk\n",
        "#Viajes de un solo pasajeros\n",
        "!echo \"Cantidad de viajes con un pasajeros por suplidor \"\n",
        "!awk -F',' -v i=0 '{if($4==1){i++;print $1}}' yellow_tripdata_2019-12.csv  | sort | uniq -c"
      ],
      "metadata": {
        "colab": {
          "base_uri": "https://localhost:8080/"
        },
        "id": "3NzRtgWfpnDI",
        "outputId": "a1d4cbd0-3981-4aa3-ba1d-49392282493a"
      },
      "execution_count": null,
      "outputs": [
        {
          "output_type": "stream",
          "name": "stdout",
          "text": [
            "Cantidad de viajes con un pasajeros por suplidor \n",
            "1631857 1\n",
            "3151535 2\n",
            "      1 4783392\n"
          ]
        }
      ]
    },
    {
      "cell_type": "code",
      "source": [
        "#Viajes con mas de un pasajeros\n",
        "!echo \"Cantidad de viajes con mas de un pasajeros por suplidor\"\n",
        "!awk -F',' '{if($4>1){print $1}}' yellow_tripdata_2019-12.csv  | sort | uniq -c"
      ],
      "metadata": {
        "colab": {
          "base_uri": "https://localhost:8080/"
        },
        "id": "fDx0GU0DpnNB",
        "outputId": "7ff34eab-c1bb-4a29-e073-8a4b01161f41"
      },
      "execution_count": null,
      "outputs": [
        {
          "output_type": "stream",
          "name": "stdout",
          "text": [
            "Cantidad de viajes con mas de un pasajeros por suplidor\n",
            " 526586 1\n",
            "1409990 2\n",
            "      1 VendorID\n"
          ]
        }
      ]
    },
    {
      "cell_type": "code",
      "source": [
        "#El promedio total de pasajeros con que se hacen viajes para el VendedorID=1\n",
        "!echo \"Promedio total de pasajeros del suplidor de ID 1\"\n",
        "!awk -v viajes=0 -v sum=0 -F',' '{if($1==1) {viajes++;sum+=$4;}}END{print \"Pasajeros\\tViajes\\t\\tPromedio\",\"\\n\",sum,\"\\t\",viajes,\"\\t\",sum/viajes;}' yellow_tripdata_2019-12.csv  | sort "
      ],
      "metadata": {
        "id": "GND46eSHpnXs",
        "colab": {
          "base_uri": "https://localhost:8080/"
        },
        "outputId": "233eb06b-9a2c-4e03-9b74-d651e1eb1d1e"
      },
      "execution_count": null,
      "outputs": [
        {
          "output_type": "stream",
          "name": "stdout",
          "text": [
            "Promedio total de pasajeros del suplidor de ID 1\n",
            " 2913727 \t 2283202 \t 1.27616\n",
            "Pasajeros\tViajes\t\tPromedio \n"
          ]
        }
      ]
    },
    {
      "cell_type": "markdown",
      "source": [
        "# **Cuarto punto**\n",
        "La 11ava columnna fare_amount"
      ],
      "metadata": {
        "id": "aheRWGRCnYWq"
      }
    },
    {
      "cell_type": "code",
      "source": [
        "#identifique los viajes de todos los suplidores que tienen un costo mayor que 15$ \n",
        "#y luego haga una redireccion a un archivo filtro15.txt\n",
        "!awk -F',' '{if($11>15) {print $0}}' yellow_tripdata_2019-12.csv > filtro15.txt"
      ],
      "metadata": {
        "id": "mSHZ42I4png0"
      },
      "execution_count": null,
      "outputs": []
    },
    {
      "cell_type": "code",
      "source": [
        "#Del archivo recien creado extraiga aquellos que son del vendorid=1 y haga una redireccion a otro archivo\n",
        "#llamado filtro154.txt\n",
        "!awk -F',' '{if($1==1) {print $0}}' filtro15.txt > filtro154.txt"
      ],
      "metadata": {
        "id": "_Wjgqv-MpnqD"
      },
      "execution_count": null,
      "outputs": []
    },
    {
      "cell_type": "code",
      "source": [
        "#Con el archivo filtro154.txt haga un tercer filtro en awk\n",
        "#enfoquese en la columna congestion_surchage, filtrando aquellos viajes que tienen sobrecargo\n",
        "#congestion_surcharge>0\n",
        "!awk -F',' '{if($NF>=0.001) {print $0}}' filtro154.txt > filtro15418.txt"
      ],
      "metadata": {
        "id": "Z55bNXqeq0eR"
      },
      "execution_count": null,
      "outputs": []
    },
    {
      "cell_type": "code",
      "source": [
        "!awk -F',' '{print $2,$18}' filtro15418.txt>filtro15418solo.txt"
      ],
      "metadata": {
        "id": "BTFtQ0QYNeBn"
      },
      "execution_count": null,
      "outputs": []
    },
    {
      "cell_type": "code",
      "source": [
        "#En hora pico de 6-8am\n",
        "!awk '/ 0[6-8]:/' filtro15418solo.txt | wc -l"
      ],
      "metadata": {
        "colab": {
          "base_uri": "https://localhost:8080/"
        },
        "id": "qMFfw5yKt2v-",
        "outputId": "e0e8e2bb-3cca-417a-8996-59b830930153"
      },
      "execution_count": null,
      "outputs": [
        {
          "output_type": "stream",
          "name": "stdout",
          "text": [
            "34320\n"
          ]
        }
      ]
    },
    {
      "cell_type": "code",
      "source": [
        "#En hora pico de 12-13pm y 17-19pm\n",
        "!awk '/ 1[2-37-9]:/' filtro15418solo.txt | wc -l"
      ],
      "metadata": {
        "id": "CVbc6i34yO0j",
        "colab": {
          "base_uri": "https://localhost:8080/"
        },
        "outputId": "5c2f1e87-320c-4f38-da7a-3f931a26a940"
      },
      "execution_count": null,
      "outputs": [
        {
          "output_type": "stream",
          "name": "stdout",
          "text": [
            "138920\n"
          ]
        }
      ]
    },
    {
      "cell_type": "code",
      "source": [
        "#En hora no pico\n",
        "!awk '{i++} END{print \"Hora no pico\\tHora pico\\n\",i-(34320+138920),\"\\t\",(34320+138920)}' filtro15418solo.txt"
      ],
      "metadata": {
        "colab": {
          "base_uri": "https://localhost:8080/"
        },
        "id": "xe-v5UE_yqWL",
        "outputId": "fe7c809d-7e86-48aa-9cf3-2feee0934d76"
      },
      "execution_count": null,
      "outputs": [
        {
          "output_type": "stream",
          "name": "stdout",
          "text": [
            "Hora no pico\tHora pico\n",
            " 287241 \t 173240\n"
          ]
        }
      ]
    }
  ]
}